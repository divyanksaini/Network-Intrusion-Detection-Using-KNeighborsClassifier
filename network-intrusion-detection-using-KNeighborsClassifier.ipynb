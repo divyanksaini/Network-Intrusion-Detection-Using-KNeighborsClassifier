{
 "cells": [
  {
   "cell_type": "markdown",
   "id": "assisted-arkansas",
   "metadata": {},
   "source": [
    "# Network Intrusion Detection Using KNeighborsClassifier"
   ]
  },
  {
   "cell_type": "markdown",
   "id": "threatened-basin",
   "metadata": {},
   "source": [
    "### importing modules"
   ]
  },
  {
   "cell_type": "code",
   "execution_count": 1,
   "id": "cleared-pepper",
   "metadata": {},
   "outputs": [],
   "source": [
    "import pandas as pd\n",
    "import numpy as np\n",
    "import matplotlib.pyplot as plt\n",
    "from sklearn.model_selection import train_test_split\n",
    "from imblearn.under_sampling import OneSidedSelection\n",
    "from imblearn.over_sampling import SMOTE\n",
    "from sklearn.neighbors import KNeighborsClassifier\n",
    "from sklearn.metrics import confusion_matrix\n",
    "import seaborn as sns\n",
    "from sklearn.metrics import classification_report\n",
    "from sklearn.model_selection import cross_val_score\n",
    "from sklearn.metrics import accuracy_score\n",
    "from sklearn.metrics import precision_score\n",
    "from sklearn.metrics import recall_score\n",
    "from sklearn.metrics import f1_score"
   ]
  },
  {
   "cell_type": "code",
   "execution_count": 2,
   "id": "american-abuse",
   "metadata": {
    "scrolled": true
   },
   "outputs": [
    {
     "data": {
      "text/html": [
       "<div>\n",
       "<style scoped>\n",
       "    .dataframe tbody tr th:only-of-type {\n",
       "        vertical-align: middle;\n",
       "    }\n",
       "\n",
       "    .dataframe tbody tr th {\n",
       "        vertical-align: top;\n",
       "    }\n",
       "\n",
       "    .dataframe thead th {\n",
       "        text-align: right;\n",
       "    }\n",
       "</style>\n",
       "<table border=\"1\" class=\"dataframe\">\n",
       "  <thead>\n",
       "    <tr style=\"text-align: right;\">\n",
       "      <th></th>\n",
       "      <th>Unnamed: 0</th>\n",
       "      <th>Unnamed: 1</th>\n",
       "      <th>Unnamed: 2</th>\n",
       "      <th>Unnamed: 3</th>\n",
       "      <th>ID</th>\n",
       "      <th>Field1</th>\n",
       "      <th>Field2</th>\n",
       "      <th>Field3</th>\n",
       "      <th>Field4</th>\n",
       "      <th>Field5</th>\n",
       "      <th>...</th>\n",
       "      <th>Field34</th>\n",
       "      <th>Field35</th>\n",
       "      <th>Field36</th>\n",
       "      <th>Field37</th>\n",
       "      <th>Field38</th>\n",
       "      <th>Field39</th>\n",
       "      <th>Field40</th>\n",
       "      <th>Field41</th>\n",
       "      <th>Field42</th>\n",
       "      <th>Field43</th>\n",
       "    </tr>\n",
       "  </thead>\n",
       "  <tbody>\n",
       "    <tr>\n",
       "      <th>0</th>\n",
       "      <td>NaN</td>\n",
       "      <td>NaN</td>\n",
       "      <td>NaN</td>\n",
       "      <td>NaN</td>\n",
       "      <td>1</td>\n",
       "      <td>0</td>\n",
       "      <td>tcp</td>\n",
       "      <td>ftp_data</td>\n",
       "      <td>SF</td>\n",
       "      <td>491</td>\n",
       "      <td>...</td>\n",
       "      <td>0.17</td>\n",
       "      <td>0.03</td>\n",
       "      <td>0.17</td>\n",
       "      <td>0.00</td>\n",
       "      <td>0.00</td>\n",
       "      <td>0.00</td>\n",
       "      <td>0.05</td>\n",
       "      <td>0.00</td>\n",
       "      <td>normal</td>\n",
       "      <td>20</td>\n",
       "    </tr>\n",
       "    <tr>\n",
       "      <th>1</th>\n",
       "      <td>NaN</td>\n",
       "      <td>NaN</td>\n",
       "      <td>NaN</td>\n",
       "      <td>NaN</td>\n",
       "      <td>2</td>\n",
       "      <td>0</td>\n",
       "      <td>udp</td>\n",
       "      <td>other</td>\n",
       "      <td>SF</td>\n",
       "      <td>146</td>\n",
       "      <td>...</td>\n",
       "      <td>0.00</td>\n",
       "      <td>0.60</td>\n",
       "      <td>0.88</td>\n",
       "      <td>0.00</td>\n",
       "      <td>0.00</td>\n",
       "      <td>0.00</td>\n",
       "      <td>0.00</td>\n",
       "      <td>0.00</td>\n",
       "      <td>normal</td>\n",
       "      <td>15</td>\n",
       "    </tr>\n",
       "    <tr>\n",
       "      <th>2</th>\n",
       "      <td>NaN</td>\n",
       "      <td>NaN</td>\n",
       "      <td>NaN</td>\n",
       "      <td>NaN</td>\n",
       "      <td>3</td>\n",
       "      <td>0</td>\n",
       "      <td>tcp</td>\n",
       "      <td>private</td>\n",
       "      <td>S0</td>\n",
       "      <td>0</td>\n",
       "      <td>...</td>\n",
       "      <td>0.10</td>\n",
       "      <td>0.05</td>\n",
       "      <td>0.00</td>\n",
       "      <td>0.00</td>\n",
       "      <td>1.00</td>\n",
       "      <td>1.00</td>\n",
       "      <td>0.00</td>\n",
       "      <td>0.00</td>\n",
       "      <td>neptune</td>\n",
       "      <td>19</td>\n",
       "    </tr>\n",
       "    <tr>\n",
       "      <th>3</th>\n",
       "      <td>NaN</td>\n",
       "      <td>NaN</td>\n",
       "      <td>NaN</td>\n",
       "      <td>NaN</td>\n",
       "      <td>4</td>\n",
       "      <td>0</td>\n",
       "      <td>tcp</td>\n",
       "      <td>http</td>\n",
       "      <td>SF</td>\n",
       "      <td>232</td>\n",
       "      <td>...</td>\n",
       "      <td>1.00</td>\n",
       "      <td>0.00</td>\n",
       "      <td>0.03</td>\n",
       "      <td>0.04</td>\n",
       "      <td>0.03</td>\n",
       "      <td>0.01</td>\n",
       "      <td>0.00</td>\n",
       "      <td>0.01</td>\n",
       "      <td>normal</td>\n",
       "      <td>21</td>\n",
       "    </tr>\n",
       "    <tr>\n",
       "      <th>4</th>\n",
       "      <td>NaN</td>\n",
       "      <td>NaN</td>\n",
       "      <td>NaN</td>\n",
       "      <td>NaN</td>\n",
       "      <td>5</td>\n",
       "      <td>0</td>\n",
       "      <td>tcp</td>\n",
       "      <td>http</td>\n",
       "      <td>SF</td>\n",
       "      <td>199</td>\n",
       "      <td>...</td>\n",
       "      <td>1.00</td>\n",
       "      <td>0.00</td>\n",
       "      <td>0.00</td>\n",
       "      <td>0.00</td>\n",
       "      <td>0.00</td>\n",
       "      <td>0.00</td>\n",
       "      <td>0.00</td>\n",
       "      <td>0.00</td>\n",
       "      <td>normal</td>\n",
       "      <td>21</td>\n",
       "    </tr>\n",
       "  </tbody>\n",
       "</table>\n",
       "<p>5 rows × 48 columns</p>\n",
       "</div>"
      ],
      "text/plain": [
       "   Unnamed: 0  Unnamed: 1  Unnamed: 2  Unnamed: 3  ID  Field1 Field2  \\\n",
       "0         NaN         NaN         NaN         NaN   1       0    tcp   \n",
       "1         NaN         NaN         NaN         NaN   2       0    udp   \n",
       "2         NaN         NaN         NaN         NaN   3       0    tcp   \n",
       "3         NaN         NaN         NaN         NaN   4       0    tcp   \n",
       "4         NaN         NaN         NaN         NaN   5       0    tcp   \n",
       "\n",
       "     Field3 Field4  Field5  ...  Field34  Field35  Field36  Field37  Field38  \\\n",
       "0  ftp_data     SF     491  ...     0.17     0.03     0.17     0.00     0.00   \n",
       "1     other     SF     146  ...     0.00     0.60     0.88     0.00     0.00   \n",
       "2   private     S0       0  ...     0.10     0.05     0.00     0.00     1.00   \n",
       "3      http     SF     232  ...     1.00     0.00     0.03     0.04     0.03   \n",
       "4      http     SF     199  ...     1.00     0.00     0.00     0.00     0.00   \n",
       "\n",
       "   Field39  Field40  Field41  Field42  Field43  \n",
       "0     0.00     0.05     0.00   normal       20  \n",
       "1     0.00     0.00     0.00   normal       15  \n",
       "2     1.00     0.00     0.00  neptune       19  \n",
       "3     0.01     0.00     0.01   normal       21  \n",
       "4     0.00     0.00     0.00   normal       21  \n",
       "\n",
       "[5 rows x 48 columns]"
      ]
     },
     "execution_count": 2,
     "metadata": {},
     "output_type": "execute_result"
    }
   ],
   "source": [
    "#import dataset\n",
    "df = pd.read_excel(\"dataset_final.xlsx\")\n",
    "df.head()"
   ]
  },
  {
   "cell_type": "markdown",
   "id": "pleasant-ghana",
   "metadata": {},
   "source": [
    "### geting dataset ready for prediction"
   ]
  },
  {
   "cell_type": "code",
   "execution_count": 3,
   "id": "subject-demand",
   "metadata": {
    "scrolled": true
   },
   "outputs": [],
   "source": [
    "#remove extra columns \n",
    "df = df.drop([\"Unnamed: 0\", \"Unnamed: 1\", \"Unnamed: 2\", \"Unnamed: 3\", \"Field43\"], axis=1)"
   ]
  },
  {
   "cell_type": "code",
   "execution_count": 4,
   "id": "precious-magnitude",
   "metadata": {},
   "outputs": [
    {
     "data": {
      "text/plain": [
       "ID         0\n",
       "Field1     0\n",
       "Field2     0\n",
       "Field3     0\n",
       "Field4     0\n",
       "Field5     0\n",
       "Field6     0\n",
       "Field7     0\n",
       "Field10    0\n",
       "Field8     0\n",
       "Field9     0\n",
       "Field11    0\n",
       "Field12    0\n",
       "Field13    0\n",
       "Field14    0\n",
       "Field15    0\n",
       "Field16    0\n",
       "Field17    0\n",
       "Field18    0\n",
       "Field19    0\n",
       "Field20    0\n",
       "Field21    0\n",
       "Field22    0\n",
       "Field23    0\n",
       "Field24    0\n",
       "Field25    0\n",
       "Field26    0\n",
       "Field27    0\n",
       "Field28    0\n",
       "Field29    0\n",
       "Field30    0\n",
       "Field31    0\n",
       "Field32    0\n",
       "Field33    0\n",
       "Field34    0\n",
       "Field35    0\n",
       "Field36    0\n",
       "Field37    0\n",
       "Field38    0\n",
       "Field39    0\n",
       "Field40    0\n",
       "Field41    0\n",
       "Field42    0\n",
       "dtype: int64"
      ]
     },
     "execution_count": 4,
     "metadata": {},
     "output_type": "execute_result"
    }
   ],
   "source": [
    "df.isna().sum()"
   ]
  },
  {
   "cell_type": "code",
   "execution_count": 5,
   "id": "frank-showcase",
   "metadata": {},
   "outputs": [
    {
     "data": {
      "text/html": [
       "<div>\n",
       "<style scoped>\n",
       "    .dataframe tbody tr th:only-of-type {\n",
       "        vertical-align: middle;\n",
       "    }\n",
       "\n",
       "    .dataframe tbody tr th {\n",
       "        vertical-align: top;\n",
       "    }\n",
       "\n",
       "    .dataframe thead th {\n",
       "        text-align: right;\n",
       "    }\n",
       "</style>\n",
       "<table border=\"1\" class=\"dataframe\">\n",
       "  <thead>\n",
       "    <tr style=\"text-align: right;\">\n",
       "      <th></th>\n",
       "      <th>ID</th>\n",
       "      <th>Field1</th>\n",
       "      <th>Field2</th>\n",
       "      <th>Field3</th>\n",
       "      <th>Field4</th>\n",
       "      <th>Field5</th>\n",
       "      <th>Field6</th>\n",
       "      <th>Field7</th>\n",
       "      <th>Field10</th>\n",
       "      <th>Field8</th>\n",
       "      <th>...</th>\n",
       "      <th>Field33</th>\n",
       "      <th>Field34</th>\n",
       "      <th>Field35</th>\n",
       "      <th>Field36</th>\n",
       "      <th>Field37</th>\n",
       "      <th>Field38</th>\n",
       "      <th>Field39</th>\n",
       "      <th>Field40</th>\n",
       "      <th>Field41</th>\n",
       "      <th>Field42</th>\n",
       "    </tr>\n",
       "  </thead>\n",
       "  <tbody>\n",
       "    <tr>\n",
       "      <th>0</th>\n",
       "      <td>1</td>\n",
       "      <td>0</td>\n",
       "      <td>tcp</td>\n",
       "      <td>ftp_data</td>\n",
       "      <td>SF</td>\n",
       "      <td>491</td>\n",
       "      <td>0</td>\n",
       "      <td>0</td>\n",
       "      <td>0</td>\n",
       "      <td>0</td>\n",
       "      <td>...</td>\n",
       "      <td>25</td>\n",
       "      <td>0.17</td>\n",
       "      <td>0.03</td>\n",
       "      <td>0.17</td>\n",
       "      <td>0.00</td>\n",
       "      <td>0.00</td>\n",
       "      <td>0.00</td>\n",
       "      <td>0.05</td>\n",
       "      <td>0.00</td>\n",
       "      <td>normal</td>\n",
       "    </tr>\n",
       "    <tr>\n",
       "      <th>1</th>\n",
       "      <td>2</td>\n",
       "      <td>0</td>\n",
       "      <td>udp</td>\n",
       "      <td>other</td>\n",
       "      <td>SF</td>\n",
       "      <td>146</td>\n",
       "      <td>0</td>\n",
       "      <td>0</td>\n",
       "      <td>0</td>\n",
       "      <td>0</td>\n",
       "      <td>...</td>\n",
       "      <td>1</td>\n",
       "      <td>0.00</td>\n",
       "      <td>0.60</td>\n",
       "      <td>0.88</td>\n",
       "      <td>0.00</td>\n",
       "      <td>0.00</td>\n",
       "      <td>0.00</td>\n",
       "      <td>0.00</td>\n",
       "      <td>0.00</td>\n",
       "      <td>normal</td>\n",
       "    </tr>\n",
       "    <tr>\n",
       "      <th>2</th>\n",
       "      <td>3</td>\n",
       "      <td>0</td>\n",
       "      <td>tcp</td>\n",
       "      <td>private</td>\n",
       "      <td>S0</td>\n",
       "      <td>0</td>\n",
       "      <td>0</td>\n",
       "      <td>0</td>\n",
       "      <td>0</td>\n",
       "      <td>0</td>\n",
       "      <td>...</td>\n",
       "      <td>26</td>\n",
       "      <td>0.10</td>\n",
       "      <td>0.05</td>\n",
       "      <td>0.00</td>\n",
       "      <td>0.00</td>\n",
       "      <td>1.00</td>\n",
       "      <td>1.00</td>\n",
       "      <td>0.00</td>\n",
       "      <td>0.00</td>\n",
       "      <td>neptune</td>\n",
       "    </tr>\n",
       "    <tr>\n",
       "      <th>3</th>\n",
       "      <td>4</td>\n",
       "      <td>0</td>\n",
       "      <td>tcp</td>\n",
       "      <td>http</td>\n",
       "      <td>SF</td>\n",
       "      <td>232</td>\n",
       "      <td>8153</td>\n",
       "      <td>0</td>\n",
       "      <td>0</td>\n",
       "      <td>0</td>\n",
       "      <td>...</td>\n",
       "      <td>255</td>\n",
       "      <td>1.00</td>\n",
       "      <td>0.00</td>\n",
       "      <td>0.03</td>\n",
       "      <td>0.04</td>\n",
       "      <td>0.03</td>\n",
       "      <td>0.01</td>\n",
       "      <td>0.00</td>\n",
       "      <td>0.01</td>\n",
       "      <td>normal</td>\n",
       "    </tr>\n",
       "    <tr>\n",
       "      <th>4</th>\n",
       "      <td>5</td>\n",
       "      <td>0</td>\n",
       "      <td>tcp</td>\n",
       "      <td>http</td>\n",
       "      <td>SF</td>\n",
       "      <td>199</td>\n",
       "      <td>420</td>\n",
       "      <td>0</td>\n",
       "      <td>0</td>\n",
       "      <td>0</td>\n",
       "      <td>...</td>\n",
       "      <td>255</td>\n",
       "      <td>1.00</td>\n",
       "      <td>0.00</td>\n",
       "      <td>0.00</td>\n",
       "      <td>0.00</td>\n",
       "      <td>0.00</td>\n",
       "      <td>0.00</td>\n",
       "      <td>0.00</td>\n",
       "      <td>0.00</td>\n",
       "      <td>normal</td>\n",
       "    </tr>\n",
       "  </tbody>\n",
       "</table>\n",
       "<p>5 rows × 43 columns</p>\n",
       "</div>"
      ],
      "text/plain": [
       "   ID  Field1 Field2    Field3 Field4  Field5  Field6  Field7  Field10  \\\n",
       "0   1       0    tcp  ftp_data     SF     491       0       0        0   \n",
       "1   2       0    udp     other     SF     146       0       0        0   \n",
       "2   3       0    tcp   private     S0       0       0       0        0   \n",
       "3   4       0    tcp      http     SF     232    8153       0        0   \n",
       "4   5       0    tcp      http     SF     199     420       0        0   \n",
       "\n",
       "   Field8  ...  Field33  Field34  Field35  Field36  Field37  Field38  Field39  \\\n",
       "0       0  ...       25     0.17     0.03     0.17     0.00     0.00     0.00   \n",
       "1       0  ...        1     0.00     0.60     0.88     0.00     0.00     0.00   \n",
       "2       0  ...       26     0.10     0.05     0.00     0.00     1.00     1.00   \n",
       "3       0  ...      255     1.00     0.00     0.03     0.04     0.03     0.01   \n",
       "4       0  ...      255     1.00     0.00     0.00     0.00     0.00     0.00   \n",
       "\n",
       "   Field40  Field41  Field42  \n",
       "0     0.05     0.00   normal  \n",
       "1     0.00     0.00   normal  \n",
       "2     0.00     0.00  neptune  \n",
       "3     0.00     0.01   normal  \n",
       "4     0.00     0.00   normal  \n",
       "\n",
       "[5 rows x 43 columns]"
      ]
     },
     "execution_count": 5,
     "metadata": {},
     "output_type": "execute_result"
    }
   ],
   "source": [
    "df.head()"
   ]
  },
  {
   "cell_type": "code",
   "execution_count": 6,
   "id": "convertible-planet",
   "metadata": {
    "scrolled": false
   },
   "outputs": [
    {
     "data": {
      "text/plain": [
       "normal             70511\n",
       "neptune            43187\n",
       "satan               3786\n",
       "ipsweep             3777\n",
       "portsweep           3078\n",
       "smurf               2769\n",
       "nmap                1575\n",
       "back                1002\n",
       "warezclient          934\n",
       "teardrop             924\n",
       "pod                  212\n",
       "guess_passwd          59\n",
       "buffer_overflow       31\n",
       "warezmaster           21\n",
       "land                  19\n",
       "imap                  11\n",
       "loadmodule            10\n",
       "rootkit               10\n",
       "ftp_write              9\n",
       "multihop               7\n",
       "phf                    4\n",
       "perl                   3\n",
       "spy                    2\n",
       "Name: Field42, dtype: int64"
      ]
     },
     "execution_count": 6,
     "metadata": {},
     "output_type": "execute_result"
    }
   ],
   "source": [
    "df[\"Field42\"].value_counts()"
   ]
  },
  {
   "cell_type": "markdown",
   "id": "structured-young",
   "metadata": {},
   "source": [
    "### change sub-categories into their respective attack type"
   ]
  },
  {
   "cell_type": "code",
   "execution_count": 7,
   "id": "understanding-steal",
   "metadata": {},
   "outputs": [],
   "source": [
    "class_1=[\"normal\"]\n",
    "class_2=[\"back\", \"land\", \"neptune\", \"pod\", \"smurf\", \"teardrop\", \"mailbomb\", \"processtable\", \"udpstor m\", \"apache2\", \"worm\"]\n",
    "class_3=[\"spy\", 'guess_passwd', 'ftp_write', 'imap', 'phf', 'multihop', 'warezclient', 'warezmaster', 'xlock', 'xsnoop', 'snmpgue ss', 'snmpgetattack', 'httptunnel', 'sendmail', 'named']\n",
    "class_4=['buffer_overflow', 'loadmodule', 'rootkit', 'perl', 'sqlattack', 'xterm', 'ps']\n",
    "class_5=[\"satan\", \"ipsweep\", \"nmap\", \"portsweep\", \"mscan\", \"sa int\"]\n",
    "class_m=[\"normal\",\"dos\", \"r2l\", \"u2r\", \"probe\"]\n",
    "sub_class=[class_1, class_2, class_3, class_4, class_5]"
   ]
  },
  {
   "cell_type": "code",
   "execution_count": 8,
   "id": "genetic-delay",
   "metadata": {},
   "outputs": [
    {
     "name": "stdout",
     "output_type": "stream",
     "text": [
      "{'normal': 'normal', 'back': 'dos', 'land': 'dos', 'neptune': 'dos', 'pod': 'dos', 'smurf': 'dos', 'teardrop': 'dos', 'mailbomb': 'dos', 'processtable': 'dos', 'udpstor m': 'dos', 'apache2': 'dos', 'worm': 'dos', 'spy': 'r2l', 'guess_passwd': 'r2l', 'ftp_write': 'r2l', 'imap': 'r2l', 'phf': 'r2l', 'multihop': 'r2l', 'warezclient': 'r2l', 'warezmaster': 'r2l', 'xlock': 'r2l', 'xsnoop': 'r2l', 'snmpgue ss': 'r2l', 'snmpgetattack': 'r2l', 'httptunnel': 'r2l', 'sendmail': 'r2l', 'named': 'r2l', 'buffer_overflow': 'u2r', 'loadmodule': 'u2r', 'rootkit': 'u2r', 'perl': 'u2r', 'sqlattack': 'u2r', 'xterm': 'u2r', 'ps': 'u2r', 'satan': 'probe', 'ipsweep': 'probe', 'nmap': 'probe', 'portsweep': 'probe', 'mscan': 'probe', 'sa int': 'probe'}\n"
     ]
    }
   ],
   "source": [
    "dis={}\n",
    "for i, k in zip(class_m, sub_class):\n",
    "    for j in k:\n",
    "        dis[j]=i\n",
    "print(dis)"
   ]
  },
  {
   "cell_type": "code",
   "execution_count": 9,
   "id": "latin-fifth",
   "metadata": {},
   "outputs": [
    {
     "data": {
      "text/html": [
       "<div>\n",
       "<style scoped>\n",
       "    .dataframe tbody tr th:only-of-type {\n",
       "        vertical-align: middle;\n",
       "    }\n",
       "\n",
       "    .dataframe tbody tr th {\n",
       "        vertical-align: top;\n",
       "    }\n",
       "\n",
       "    .dataframe thead th {\n",
       "        text-align: right;\n",
       "    }\n",
       "</style>\n",
       "<table border=\"1\" class=\"dataframe\">\n",
       "  <thead>\n",
       "    <tr style=\"text-align: right;\">\n",
       "      <th></th>\n",
       "      <th>ID</th>\n",
       "      <th>Field1</th>\n",
       "      <th>Field2</th>\n",
       "      <th>Field3</th>\n",
       "      <th>Field4</th>\n",
       "      <th>Field5</th>\n",
       "      <th>Field6</th>\n",
       "      <th>Field7</th>\n",
       "      <th>Field10</th>\n",
       "      <th>Field8</th>\n",
       "      <th>...</th>\n",
       "      <th>Field33</th>\n",
       "      <th>Field34</th>\n",
       "      <th>Field35</th>\n",
       "      <th>Field36</th>\n",
       "      <th>Field37</th>\n",
       "      <th>Field38</th>\n",
       "      <th>Field39</th>\n",
       "      <th>Field40</th>\n",
       "      <th>Field41</th>\n",
       "      <th>Field42</th>\n",
       "    </tr>\n",
       "  </thead>\n",
       "  <tbody>\n",
       "    <tr>\n",
       "      <th>0</th>\n",
       "      <td>1</td>\n",
       "      <td>0</td>\n",
       "      <td>tcp</td>\n",
       "      <td>ftp_data</td>\n",
       "      <td>SF</td>\n",
       "      <td>491</td>\n",
       "      <td>0</td>\n",
       "      <td>0</td>\n",
       "      <td>0</td>\n",
       "      <td>0</td>\n",
       "      <td>...</td>\n",
       "      <td>25</td>\n",
       "      <td>0.17</td>\n",
       "      <td>0.03</td>\n",
       "      <td>0.17</td>\n",
       "      <td>0.00</td>\n",
       "      <td>0.00</td>\n",
       "      <td>0.00</td>\n",
       "      <td>0.05</td>\n",
       "      <td>0.00</td>\n",
       "      <td>normal</td>\n",
       "    </tr>\n",
       "    <tr>\n",
       "      <th>1</th>\n",
       "      <td>2</td>\n",
       "      <td>0</td>\n",
       "      <td>udp</td>\n",
       "      <td>other</td>\n",
       "      <td>SF</td>\n",
       "      <td>146</td>\n",
       "      <td>0</td>\n",
       "      <td>0</td>\n",
       "      <td>0</td>\n",
       "      <td>0</td>\n",
       "      <td>...</td>\n",
       "      <td>1</td>\n",
       "      <td>0.00</td>\n",
       "      <td>0.60</td>\n",
       "      <td>0.88</td>\n",
       "      <td>0.00</td>\n",
       "      <td>0.00</td>\n",
       "      <td>0.00</td>\n",
       "      <td>0.00</td>\n",
       "      <td>0.00</td>\n",
       "      <td>normal</td>\n",
       "    </tr>\n",
       "    <tr>\n",
       "      <th>2</th>\n",
       "      <td>3</td>\n",
       "      <td>0</td>\n",
       "      <td>tcp</td>\n",
       "      <td>private</td>\n",
       "      <td>S0</td>\n",
       "      <td>0</td>\n",
       "      <td>0</td>\n",
       "      <td>0</td>\n",
       "      <td>0</td>\n",
       "      <td>0</td>\n",
       "      <td>...</td>\n",
       "      <td>26</td>\n",
       "      <td>0.10</td>\n",
       "      <td>0.05</td>\n",
       "      <td>0.00</td>\n",
       "      <td>0.00</td>\n",
       "      <td>1.00</td>\n",
       "      <td>1.00</td>\n",
       "      <td>0.00</td>\n",
       "      <td>0.00</td>\n",
       "      <td>dos</td>\n",
       "    </tr>\n",
       "    <tr>\n",
       "      <th>3</th>\n",
       "      <td>4</td>\n",
       "      <td>0</td>\n",
       "      <td>tcp</td>\n",
       "      <td>http</td>\n",
       "      <td>SF</td>\n",
       "      <td>232</td>\n",
       "      <td>8153</td>\n",
       "      <td>0</td>\n",
       "      <td>0</td>\n",
       "      <td>0</td>\n",
       "      <td>...</td>\n",
       "      <td>255</td>\n",
       "      <td>1.00</td>\n",
       "      <td>0.00</td>\n",
       "      <td>0.03</td>\n",
       "      <td>0.04</td>\n",
       "      <td>0.03</td>\n",
       "      <td>0.01</td>\n",
       "      <td>0.00</td>\n",
       "      <td>0.01</td>\n",
       "      <td>normal</td>\n",
       "    </tr>\n",
       "    <tr>\n",
       "      <th>4</th>\n",
       "      <td>5</td>\n",
       "      <td>0</td>\n",
       "      <td>tcp</td>\n",
       "      <td>http</td>\n",
       "      <td>SF</td>\n",
       "      <td>199</td>\n",
       "      <td>420</td>\n",
       "      <td>0</td>\n",
       "      <td>0</td>\n",
       "      <td>0</td>\n",
       "      <td>...</td>\n",
       "      <td>255</td>\n",
       "      <td>1.00</td>\n",
       "      <td>0.00</td>\n",
       "      <td>0.00</td>\n",
       "      <td>0.00</td>\n",
       "      <td>0.00</td>\n",
       "      <td>0.00</td>\n",
       "      <td>0.00</td>\n",
       "      <td>0.00</td>\n",
       "      <td>normal</td>\n",
       "    </tr>\n",
       "  </tbody>\n",
       "</table>\n",
       "<p>5 rows × 43 columns</p>\n",
       "</div>"
      ],
      "text/plain": [
       "   ID  Field1 Field2    Field3 Field4  Field5  Field6  Field7  Field10  \\\n",
       "0   1       0    tcp  ftp_data     SF     491       0       0        0   \n",
       "1   2       0    udp     other     SF     146       0       0        0   \n",
       "2   3       0    tcp   private     S0       0       0       0        0   \n",
       "3   4       0    tcp      http     SF     232    8153       0        0   \n",
       "4   5       0    tcp      http     SF     199     420       0        0   \n",
       "\n",
       "   Field8  ...  Field33  Field34  Field35  Field36  Field37  Field38  Field39  \\\n",
       "0       0  ...       25     0.17     0.03     0.17     0.00     0.00     0.00   \n",
       "1       0  ...        1     0.00     0.60     0.88     0.00     0.00     0.00   \n",
       "2       0  ...       26     0.10     0.05     0.00     0.00     1.00     1.00   \n",
       "3       0  ...      255     1.00     0.00     0.03     0.04     0.03     0.01   \n",
       "4       0  ...      255     1.00     0.00     0.00     0.00     0.00     0.00   \n",
       "\n",
       "   Field40  Field41  Field42  \n",
       "0     0.05     0.00   normal  \n",
       "1     0.00     0.00   normal  \n",
       "2     0.00     0.00      dos  \n",
       "3     0.00     0.01   normal  \n",
       "4     0.00     0.00   normal  \n",
       "\n",
       "[5 rows x 43 columns]"
      ]
     },
     "execution_count": 9,
     "metadata": {},
     "output_type": "execute_result"
    }
   ],
   "source": [
    "df[\"Field42\"] = df[\"Field42\"].replace(dis)\n",
    "df.head()"
   ]
  },
  {
   "cell_type": "code",
   "execution_count": 10,
   "id": "cordless-divorce",
   "metadata": {},
   "outputs": [
    {
     "data": {
      "text/plain": [
       "normal    70511\n",
       "dos       48113\n",
       "probe     12216\n",
       "r2l        1047\n",
       "u2r          54\n",
       "Name: Field42, dtype: int64"
      ]
     },
     "execution_count": 10,
     "metadata": {},
     "output_type": "execute_result"
    }
   ],
   "source": [
    "df[\"Field42\"].value_counts()"
   ]
  },
  {
   "cell_type": "code",
   "execution_count": 11,
   "id": "passive-million",
   "metadata": {},
   "outputs": [
    {
     "data": {
      "image/png": "[encoded data removed]",
      "text/plain": [
       "<Figure size 432x288 with 1 Axes>"
      ]
     },
     "metadata": {
      "needs_background": "light"
     },
     "output_type": "display_data"
    }
   ],
   "source": [
    "df[\"Field42\"].value_counts().plot.bar();"
   ]
  },
  {
   "cell_type": "code",
   "execution_count": 12,
   "id": "copyrighted-coffee",
   "metadata": {},
   "outputs": [],
   "source": [
    "# provide specific numerical value to each type of attacks\n",
    "\n",
    "dis_num = {\"normal\":1,\n",
    "          \"dos\":2,\n",
    "          \"r2l\":3,\n",
    "          \"u2r\":4,\n",
    "          \"probe\":5}"
   ]
  },
  {
   "cell_type": "code",
   "execution_count": 13,
   "id": "subjective-battlefield",
   "metadata": {},
   "outputs": [],
   "source": [
    "df[\"Field42\"]= df[\"Field42\"].replace(dis_num)"
   ]
  },
  {
   "cell_type": "code",
   "execution_count": 14,
   "id": "recent-correlation",
   "metadata": {},
   "outputs": [
    {
     "data": {
      "text/html": [
       "<div>\n",
       "<style scoped>\n",
       "    .dataframe tbody tr th:only-of-type {\n",
       "        vertical-align: middle;\n",
       "    }\n",
       "\n",
       "    .dataframe tbody tr th {\n",
       "        vertical-align: top;\n",
       "    }\n",
       "\n",
       "    .dataframe thead th {\n",
       "        text-align: right;\n",
       "    }\n",
       "</style>\n",
       "<table border=\"1\" class=\"dataframe\">\n",
       "  <thead>\n",
       "    <tr style=\"text-align: right;\">\n",
       "      <th></th>\n",
       "      <th>ID</th>\n",
       "      <th>Field1</th>\n",
       "      <th>Field2</th>\n",
       "      <th>Field3</th>\n",
       "      <th>Field4</th>\n",
       "      <th>Field5</th>\n",
       "      <th>Field6</th>\n",
       "      <th>Field7</th>\n",
       "      <th>Field10</th>\n",
       "      <th>Field8</th>\n",
       "      <th>...</th>\n",
       "      <th>Field33</th>\n",
       "      <th>Field34</th>\n",
       "      <th>Field35</th>\n",
       "      <th>Field36</th>\n",
       "      <th>Field37</th>\n",
       "      <th>Field38</th>\n",
       "      <th>Field39</th>\n",
       "      <th>Field40</th>\n",
       "      <th>Field41</th>\n",
       "      <th>Field42</th>\n",
       "    </tr>\n",
       "  </thead>\n",
       "  <tbody>\n",
       "    <tr>\n",
       "      <th>0</th>\n",
       "      <td>1</td>\n",
       "      <td>0</td>\n",
       "      <td>tcp</td>\n",
       "      <td>ftp_data</td>\n",
       "      <td>SF</td>\n",
       "      <td>491</td>\n",
       "      <td>0</td>\n",
       "      <td>0</td>\n",
       "      <td>0</td>\n",
       "      <td>0</td>\n",
       "      <td>...</td>\n",
       "      <td>25</td>\n",
       "      <td>0.17</td>\n",
       "      <td>0.03</td>\n",
       "      <td>0.17</td>\n",
       "      <td>0.00</td>\n",
       "      <td>0.00</td>\n",
       "      <td>0.00</td>\n",
       "      <td>0.05</td>\n",
       "      <td>0.00</td>\n",
       "      <td>1</td>\n",
       "    </tr>\n",
       "    <tr>\n",
       "      <th>1</th>\n",
       "      <td>2</td>\n",
       "      <td>0</td>\n",
       "      <td>udp</td>\n",
       "      <td>other</td>\n",
       "      <td>SF</td>\n",
       "      <td>146</td>\n",
       "      <td>0</td>\n",
       "      <td>0</td>\n",
       "      <td>0</td>\n",
       "      <td>0</td>\n",
       "      <td>...</td>\n",
       "      <td>1</td>\n",
       "      <td>0.00</td>\n",
       "      <td>0.60</td>\n",
       "      <td>0.88</td>\n",
       "      <td>0.00</td>\n",
       "      <td>0.00</td>\n",
       "      <td>0.00</td>\n",
       "      <td>0.00</td>\n",
       "      <td>0.00</td>\n",
       "      <td>1</td>\n",
       "    </tr>\n",
       "    <tr>\n",
       "      <th>2</th>\n",
       "      <td>3</td>\n",
       "      <td>0</td>\n",
       "      <td>tcp</td>\n",
       "      <td>private</td>\n",
       "      <td>S0</td>\n",
       "      <td>0</td>\n",
       "      <td>0</td>\n",
       "      <td>0</td>\n",
       "      <td>0</td>\n",
       "      <td>0</td>\n",
       "      <td>...</td>\n",
       "      <td>26</td>\n",
       "      <td>0.10</td>\n",
       "      <td>0.05</td>\n",
       "      <td>0.00</td>\n",
       "      <td>0.00</td>\n",
       "      <td>1.00</td>\n",
       "      <td>1.00</td>\n",
       "      <td>0.00</td>\n",
       "      <td>0.00</td>\n",
       "      <td>2</td>\n",
       "    </tr>\n",
       "    <tr>\n",
       "      <th>3</th>\n",
       "      <td>4</td>\n",
       "      <td>0</td>\n",
       "      <td>tcp</td>\n",
       "      <td>http</td>\n",
       "      <td>SF</td>\n",
       "      <td>232</td>\n",
       "      <td>8153</td>\n",
       "      <td>0</td>\n",
       "      <td>0</td>\n",
       "      <td>0</td>\n",
       "      <td>...</td>\n",
       "      <td>255</td>\n",
       "      <td>1.00</td>\n",
       "      <td>0.00</td>\n",
       "      <td>0.03</td>\n",
       "      <td>0.04</td>\n",
       "      <td>0.03</td>\n",
       "      <td>0.01</td>\n",
       "      <td>0.00</td>\n",
       "      <td>0.01</td>\n",
       "      <td>1</td>\n",
       "    </tr>\n",
       "    <tr>\n",
       "      <th>4</th>\n",
       "      <td>5</td>\n",
       "      <td>0</td>\n",
       "      <td>tcp</td>\n",
       "      <td>http</td>\n",
       "      <td>SF</td>\n",
       "      <td>199</td>\n",
       "      <td>420</td>\n",
       "      <td>0</td>\n",
       "      <td>0</td>\n",
       "      <td>0</td>\n",
       "      <td>...</td>\n",
       "      <td>255</td>\n",
       "      <td>1.00</td>\n",
       "      <td>0.00</td>\n",
       "      <td>0.00</td>\n",
       "      <td>0.00</td>\n",
       "      <td>0.00</td>\n",
       "      <td>0.00</td>\n",
       "      <td>0.00</td>\n",
       "      <td>0.00</td>\n",
       "      <td>1</td>\n",
       "    </tr>\n",
       "  </tbody>\n",
       "</table>\n",
       "<p>5 rows × 43 columns</p>\n",
       "</div>"
      ],
      "text/plain": [
       "   ID  Field1 Field2    Field3 Field4  Field5  Field6  Field7  Field10  \\\n",
       "0   1       0    tcp  ftp_data     SF     491       0       0        0   \n",
       "1   2       0    udp     other     SF     146       0       0        0   \n",
       "2   3       0    tcp   private     S0       0       0       0        0   \n",
       "3   4       0    tcp      http     SF     232    8153       0        0   \n",
       "4   5       0    tcp      http     SF     199     420       0        0   \n",
       "\n",
       "   Field8  ...  Field33  Field34  Field35  Field36  Field37  Field38  Field39  \\\n",
       "0       0  ...       25     0.17     0.03     0.17     0.00     0.00     0.00   \n",
       "1       0  ...        1     0.00     0.60     0.88     0.00     0.00     0.00   \n",
       "2       0  ...       26     0.10     0.05     0.00     0.00     1.00     1.00   \n",
       "3       0  ...      255     1.00     0.00     0.03     0.04     0.03     0.01   \n",
       "4       0  ...      255     1.00     0.00     0.00     0.00     0.00     0.00   \n",
       "\n",
       "   Field40  Field41  Field42  \n",
       "0     0.05     0.00        1  \n",
       "1     0.00     0.00        1  \n",
       "2     0.00     0.00        2  \n",
       "3     0.00     0.01        1  \n",
       "4     0.00     0.00        1  \n",
       "\n",
       "[5 rows x 43 columns]"
      ]
     },
     "execution_count": 14,
     "metadata": {},
     "output_type": "execute_result"
    }
   ],
   "source": [
    "df.head()"
   ]
  },
  {
   "cell_type": "code",
   "execution_count": 15,
   "id": "downtown-proxy",
   "metadata": {},
   "outputs": [
    {
     "data": {
      "text/plain": [
       "1    70511\n",
       "2    48113\n",
       "5    12216\n",
       "3     1047\n",
       "4       54\n",
       "Name: Field42, dtype: int64"
      ]
     },
     "execution_count": 15,
     "metadata": {},
     "output_type": "execute_result"
    }
   ],
   "source": [
    "df[\"Field42\"].value_counts()"
   ]
  },
  {
   "cell_type": "code",
   "execution_count": 16,
   "id": "previous-saturn",
   "metadata": {
    "scrolled": true
   },
   "outputs": [
    {
     "data": {
      "image/png": "[encoded data removed]",
      "text/plain": [
       "<Figure size 432x288 with 1 Axes>"
      ]
     },
     "metadata": {
      "needs_background": "light"
     },
     "output_type": "display_data"
    }
   ],
   "source": [
    "df[\"Field42\"].value_counts().plot.bar();"
   ]
  },
  {
   "cell_type": "markdown",
   "id": "another-identifier",
   "metadata": {},
   "source": [
    "### spliting data for training and testing"
   ]
  },
  {
   "cell_type": "code",
   "execution_count": 17,
   "id": "black-mineral",
   "metadata": {},
   "outputs": [],
   "source": [
    "x = df.drop([\"ID\", \"Field4\", \"Field2\", \"Field3\", \"Field42\"], axis=1)\n",
    "y = df[\"Field42\"]"
   ]
  },
  {
   "cell_type": "code",
   "execution_count": 18,
   "id": "saved-litigation",
   "metadata": {},
   "outputs": [],
   "source": [
    "x_train, x_test, y_train, y_test = train_test_split(x, y, test_size=0.4)"
   ]
  },
  {
   "cell_type": "code",
   "execution_count": 19,
   "id": "first-refund",
   "metadata": {
    "scrolled": true
   },
   "outputs": [
    {
     "data": {
      "text/plain": [
       "((79164, 38), (79164,), (52777, 38), (52777,))"
      ]
     },
     "execution_count": 19,
     "metadata": {},
     "output_type": "execute_result"
    }
   ],
   "source": [
    "x_train.shape, y_train.shape, x_test.shape, y_test.shape"
   ]
  },
  {
   "cell_type": "code",
   "execution_count": 20,
   "id": "intended-amino",
   "metadata": {},
   "outputs": [
    {
     "data": {
      "text/plain": [
       "1    42401\n",
       "2    28788\n",
       "5     7314\n",
       "3      628\n",
       "4       33\n",
       "Name: Field42, dtype: int64"
      ]
     },
     "execution_count": 20,
     "metadata": {},
     "output_type": "execute_result"
    }
   ],
   "source": [
    "y_train.value_counts()"
   ]
  },
  {
   "cell_type": "code",
   "execution_count": 21,
   "id": "hazardous-crowd",
   "metadata": {},
   "outputs": [
    {
     "data": {
      "text/plain": [
       "1    28110\n",
       "2    19325\n",
       "5     4902\n",
       "3      419\n",
       "4       21\n",
       "Name: Field42, dtype: int64"
      ]
     },
     "execution_count": 21,
     "metadata": {},
     "output_type": "execute_result"
    }
   ],
   "source": [
    "y_test.value_counts()"
   ]
  },
  {
   "cell_type": "markdown",
   "id": "sustainable-adoption",
   "metadata": {},
   "source": [
    "## dataset balancing\n",
    "\n",
    "1. use OSS for over samples\n",
    "2. use SMOTE for under samples"
   ]
  },
  {
   "cell_type": "code",
   "execution_count": 22,
   "id": "compliant-relay",
   "metadata": {},
   "outputs": [
    {
     "data": {
      "text/plain": [
       "1    41552\n",
       "2    28788\n",
       "5     7314\n",
       "3      628\n",
       "4       33\n",
       "Name: Field42, dtype: int64"
      ]
     },
     "execution_count": 22,
     "metadata": {},
     "output_type": "execute_result"
    }
   ],
   "source": [
    "# OSS\n",
    "np.random.seed(60)\n",
    "oss = OneSidedSelection(sampling_strategy=\"majority\")\n",
    "x_train_o, y_train_o = oss.fit_sample(x_train, y_train)\n",
    "y_train_o.value_counts()"
   ]
  },
  {
   "cell_type": "code",
   "execution_count": 23,
   "id": "southwest-shuttle",
   "metadata": {
    "scrolled": false
   },
   "outputs": [
    {
     "data": {
      "image/png": "[encoded data removed]",
      "text/plain": [
       "<Figure size 432x288 with 1 Axes>"
      ]
     },
     "metadata": {
      "needs_background": "light"
     },
     "output_type": "display_data"
    }
   ],
   "source": [
    "y_train_o.value_counts().plot.bar();"
   ]
  },
  {
   "cell_type": "code",
   "execution_count": 24,
   "id": "capital-going",
   "metadata": {},
   "outputs": [
    {
     "data": {
      "text/plain": [
       "((78315, 38), (78315,))"
      ]
     },
     "execution_count": 24,
     "metadata": {},
     "output_type": "execute_result"
    }
   ],
   "source": [
    "x_train_o.shape, y_train_o.shape"
   ]
  },
  {
   "cell_type": "code",
   "execution_count": 25,
   "id": "reflected-slovenia",
   "metadata": {
    "scrolled": true
   },
   "outputs": [
    {
     "data": {
      "text/plain": [
       "1    41552\n",
       "4    41552\n",
       "2    28788\n",
       "5     7314\n",
       "3      628\n",
       "Name: Field42, dtype: int64"
      ]
     },
     "execution_count": 25,
     "metadata": {},
     "output_type": "execute_result"
    }
   ],
   "source": [
    "# SMOTE\n",
    "sm = SMOTE(sampling_strategy=\"minority\")\n",
    "x_train_s, y_train_s =  sm.fit_sample(x_train_o, y_train_o)\n",
    "y_train_s.value_counts()"
   ]
  },
  {
   "cell_type": "code",
   "execution_count": 26,
   "id": "qualified-arbor",
   "metadata": {},
   "outputs": [
    {
     "data": {
      "text/plain": [
       "<AxesSubplot:>"
      ]
     },
     "execution_count": 26,
     "metadata": {},
     "output_type": "execute_result"
    },
    {
     "data": {
      "image/png": "[encoded data removed]",
      "text/plain": [
       "<Figure size 432x288 with 1 Axes>"
      ]
     },
     "metadata": {
      "needs_background": "light"
     },
     "output_type": "display_data"
    }
   ],
   "source": [
    "y_train_s.value_counts().plot.bar()"
   ]
  },
  {
   "cell_type": "code",
   "execution_count": 27,
   "id": "essential-garage",
   "metadata": {},
   "outputs": [
    {
     "data": {
      "text/plain": [
       "((119834, 38), (119834,))"
      ]
     },
     "execution_count": 27,
     "metadata": {},
     "output_type": "execute_result"
    }
   ],
   "source": [
    "x_train_s.shape, y_train_s.shape"
   ]
  },
  {
   "cell_type": "code",
   "execution_count": 28,
   "id": "needed-triangle",
   "metadata": {},
   "outputs": [
    {
     "data": {
      "text/html": [
       "<div>\n",
       "<style scoped>\n",
       "    .dataframe tbody tr th:only-of-type {\n",
       "        vertical-align: middle;\n",
       "    }\n",
       "\n",
       "    .dataframe tbody tr th {\n",
       "        vertical-align: top;\n",
       "    }\n",
       "\n",
       "    .dataframe thead th {\n",
       "        text-align: right;\n",
       "    }\n",
       "</style>\n",
       "<table border=\"1\" class=\"dataframe\">\n",
       "  <thead>\n",
       "    <tr style=\"text-align: right;\">\n",
       "      <th></th>\n",
       "      <th>Field1</th>\n",
       "      <th>Field5</th>\n",
       "      <th>Field6</th>\n",
       "      <th>Field7</th>\n",
       "      <th>Field10</th>\n",
       "      <th>Field8</th>\n",
       "      <th>Field9</th>\n",
       "      <th>Field11</th>\n",
       "      <th>Field12</th>\n",
       "      <th>Field13</th>\n",
       "      <th>...</th>\n",
       "      <th>Field32</th>\n",
       "      <th>Field33</th>\n",
       "      <th>Field34</th>\n",
       "      <th>Field35</th>\n",
       "      <th>Field36</th>\n",
       "      <th>Field37</th>\n",
       "      <th>Field38</th>\n",
       "      <th>Field39</th>\n",
       "      <th>Field40</th>\n",
       "      <th>Field41</th>\n",
       "    </tr>\n",
       "  </thead>\n",
       "  <tbody>\n",
       "    <tr>\n",
       "      <th>0</th>\n",
       "      <td>2580</td>\n",
       "      <td>146</td>\n",
       "      <td>105</td>\n",
       "      <td>0</td>\n",
       "      <td>0</td>\n",
       "      <td>0</td>\n",
       "      <td>0</td>\n",
       "      <td>0</td>\n",
       "      <td>0</td>\n",
       "      <td>0</td>\n",
       "      <td>...</td>\n",
       "      <td>255</td>\n",
       "      <td>2</td>\n",
       "      <td>0.01</td>\n",
       "      <td>0.85</td>\n",
       "      <td>0.98</td>\n",
       "      <td>0.00</td>\n",
       "      <td>0.00</td>\n",
       "      <td>0.00</td>\n",
       "      <td>0.0</td>\n",
       "      <td>0.0</td>\n",
       "    </tr>\n",
       "    <tr>\n",
       "      <th>1</th>\n",
       "      <td>0</td>\n",
       "      <td>246</td>\n",
       "      <td>5363</td>\n",
       "      <td>0</td>\n",
       "      <td>0</td>\n",
       "      <td>0</td>\n",
       "      <td>0</td>\n",
       "      <td>0</td>\n",
       "      <td>1</td>\n",
       "      <td>0</td>\n",
       "      <td>...</td>\n",
       "      <td>25</td>\n",
       "      <td>255</td>\n",
       "      <td>1.00</td>\n",
       "      <td>0.00</td>\n",
       "      <td>0.04</td>\n",
       "      <td>0.03</td>\n",
       "      <td>0.00</td>\n",
       "      <td>0.00</td>\n",
       "      <td>0.0</td>\n",
       "      <td>0.0</td>\n",
       "    </tr>\n",
       "    <tr>\n",
       "      <th>2</th>\n",
       "      <td>0</td>\n",
       "      <td>220</td>\n",
       "      <td>2487</td>\n",
       "      <td>0</td>\n",
       "      <td>0</td>\n",
       "      <td>0</td>\n",
       "      <td>0</td>\n",
       "      <td>0</td>\n",
       "      <td>1</td>\n",
       "      <td>0</td>\n",
       "      <td>...</td>\n",
       "      <td>2</td>\n",
       "      <td>255</td>\n",
       "      <td>1.00</td>\n",
       "      <td>0.00</td>\n",
       "      <td>0.50</td>\n",
       "      <td>0.05</td>\n",
       "      <td>0.00</td>\n",
       "      <td>0.00</td>\n",
       "      <td>0.0</td>\n",
       "      <td>0.0</td>\n",
       "    </tr>\n",
       "    <tr>\n",
       "      <th>3</th>\n",
       "      <td>2</td>\n",
       "      <td>1644</td>\n",
       "      <td>328</td>\n",
       "      <td>0</td>\n",
       "      <td>0</td>\n",
       "      <td>0</td>\n",
       "      <td>0</td>\n",
       "      <td>0</td>\n",
       "      <td>1</td>\n",
       "      <td>0</td>\n",
       "      <td>...</td>\n",
       "      <td>169</td>\n",
       "      <td>136</td>\n",
       "      <td>0.80</td>\n",
       "      <td>0.04</td>\n",
       "      <td>0.01</td>\n",
       "      <td>0.00</td>\n",
       "      <td>0.00</td>\n",
       "      <td>0.00</td>\n",
       "      <td>0.0</td>\n",
       "      <td>0.0</td>\n",
       "    </tr>\n",
       "    <tr>\n",
       "      <th>4</th>\n",
       "      <td>0</td>\n",
       "      <td>281</td>\n",
       "      <td>758</td>\n",
       "      <td>0</td>\n",
       "      <td>0</td>\n",
       "      <td>0</td>\n",
       "      <td>0</td>\n",
       "      <td>0</td>\n",
       "      <td>1</td>\n",
       "      <td>0</td>\n",
       "      <td>...</td>\n",
       "      <td>44</td>\n",
       "      <td>255</td>\n",
       "      <td>1.00</td>\n",
       "      <td>0.00</td>\n",
       "      <td>0.02</td>\n",
       "      <td>0.02</td>\n",
       "      <td>0.02</td>\n",
       "      <td>0.01</td>\n",
       "      <td>0.0</td>\n",
       "      <td>0.0</td>\n",
       "    </tr>\n",
       "  </tbody>\n",
       "</table>\n",
       "<p>5 rows × 38 columns</p>\n",
       "</div>"
      ],
      "text/plain": [
       "   Field1  Field5  Field6  Field7  Field10  Field8  Field9  Field11  Field12  \\\n",
       "0    2580     146     105       0        0       0       0        0        0   \n",
       "1       0     246    5363       0        0       0       0        0        1   \n",
       "2       0     220    2487       0        0       0       0        0        1   \n",
       "3       2    1644     328       0        0       0       0        0        1   \n",
       "4       0     281     758       0        0       0       0        0        1   \n",
       "\n",
       "   Field13  ...  Field32  Field33  Field34  Field35  Field36  Field37  \\\n",
       "0        0  ...      255        2     0.01     0.85     0.98     0.00   \n",
       "1        0  ...       25      255     1.00     0.00     0.04     0.03   \n",
       "2        0  ...        2      255     1.00     0.00     0.50     0.05   \n",
       "3        0  ...      169      136     0.80     0.04     0.01     0.00   \n",
       "4        0  ...       44      255     1.00     0.00     0.02     0.02   \n",
       "\n",
       "   Field38  Field39  Field40  Field41  \n",
       "0     0.00     0.00      0.0      0.0  \n",
       "1     0.00     0.00      0.0      0.0  \n",
       "2     0.00     0.00      0.0      0.0  \n",
       "3     0.00     0.00      0.0      0.0  \n",
       "4     0.02     0.01      0.0      0.0  \n",
       "\n",
       "[5 rows x 38 columns]"
      ]
     },
     "execution_count": 28,
     "metadata": {},
     "output_type": "execute_result"
    }
   ],
   "source": [
    "x_train_s.head()"
   ]
  },
  {
   "cell_type": "code",
   "execution_count": 29,
   "id": "satellite-trace",
   "metadata": {},
   "outputs": [
    {
     "data": {
      "text/plain": [
       "1    41552\n",
       "4    41552\n",
       "2    28788\n",
       "5     7314\n",
       "3      628\n",
       "Name: Field42, dtype: int64"
      ]
     },
     "execution_count": 29,
     "metadata": {},
     "output_type": "execute_result"
    }
   ],
   "source": [
    "y_train_s.value_counts()"
   ]
  },
  {
   "cell_type": "markdown",
   "id": "dress-aluminum",
   "metadata": {},
   "source": [
    "## training and testing using KNeighborsClassifier"
   ]
  },
  {
   "cell_type": "code",
   "execution_count": 30,
   "id": "prostate-glossary",
   "metadata": {},
   "outputs": [
    {
     "data": {
      "text/plain": [
       "0.9780586240218276"
      ]
     },
     "execution_count": 30,
     "metadata": {},
     "output_type": "execute_result"
    }
   ],
   "source": [
    "nnb = KNeighborsClassifier()\n",
    "nnb.fit(x_train_s, y_train_s)\n",
    "nnb.score(x_test, y_test)"
   ]
  },
  {
   "cell_type": "code",
   "execution_count": 31,
   "id": "peaceful-verse",
   "metadata": {},
   "outputs": [
    {
     "data": {
      "text/plain": [
       "array([0.99052636, 0.99211763, 0.99026072, 0.9914355 , 0.9923829 ])"
      ]
     },
     "execution_count": 31,
     "metadata": {},
     "output_type": "execute_result"
    }
   ],
   "source": [
    "from sklearn.model_selection import cross_val_score\n",
    "cross_val_score(nnb, x, y)"
   ]
  },
  {
   "cell_type": "code",
   "execution_count": 32,
   "id": "fitted-journalism",
   "metadata": {},
   "outputs": [
    {
     "data": {
      "text/plain": [
       "array([1, 1, 5, ..., 2, 1, 2], dtype=int64)"
      ]
     },
     "execution_count": 32,
     "metadata": {},
     "output_type": "execute_result"
    }
   ],
   "source": [
    "y_preds = nnb.predict(x_test)\n",
    "y_preds"
   ]
  },
  {
   "cell_type": "code",
   "execution_count": 33,
   "id": "unable-lambda",
   "metadata": {
    "scrolled": true
   },
   "outputs": [
    {
     "data": {
      "text/plain": [
       "array([[27298,    58,    30,   210,   514],\n",
       "       [   20, 19243,     0,     3,    59],\n",
       "       [   19,     0,   393,     6,     1],\n",
       "       [    3,     0,     0,    18,     0],\n",
       "       [   41,   185,     0,     9,  4667]], dtype=int64)"
      ]
     },
     "execution_count": 33,
     "metadata": {},
     "output_type": "execute_result"
    }
   ],
   "source": [
    "cn_m = confusion_matrix(y_test, y_preds)\n",
    "cn_m"
   ]
  },
  {
   "cell_type": "markdown",
   "id": "classical-commissioner",
   "metadata": {},
   "source": [
    "## Evalution"
   ]
  },
  {
   "cell_type": "code",
   "execution_count": 34,
   "id": "outdoor-biodiversity",
   "metadata": {
    "scrolled": true
   },
   "outputs": [
    {
     "data": {
      "image/png": "[encoded data removed]",
      "text/plain": [
       "<Figure size 432x288 with 1 Axes>"
      ]
     },
     "metadata": {
      "needs_background": "light"
     },
     "output_type": "display_data"
    }
   ],
   "source": [
    "fig, ax = plt.subplots()\n",
    "ax = sns.heatmap(cn_m, annot= True, fmt='d', cbar=False,\n",
    "                 xticklabels=[\"normal\", \"dos\", \"r2l\", \"u2r\", \"probe\"],\n",
    "                 yticklabels=[\"normal\", \"dos\", \"r2l\", \"u2r\", \"probe\"]);\n",
    "\n",
    "plt.xlabel(\"Actual value\",\n",
    "          fontsize=15)\n",
    "plt.ylabel(\"Predicted value\",\n",
    "          fontsize = 15);\n",
    "plt.title(\"Confusion matrix\",\n",
    "         fontsize=20);"
   ]
  },
  {
   "cell_type": "code",
   "execution_count": 35,
   "id": "optional-athletics",
   "metadata": {},
   "outputs": [
    {
     "name": "stdout",
     "output_type": "stream",
     "text": [
      "              precision    recall  f1-score   support\n",
      "\n",
      "           1       1.00      0.97      0.98     28110\n",
      "           2       0.99      1.00      0.99     19325\n",
      "           3       0.93      0.94      0.93       419\n",
      "           4       0.07      0.86      0.13        21\n",
      "           5       0.89      0.95      0.92      4902\n",
      "\n",
      "    accuracy                           0.98     52777\n",
      "   macro avg       0.78      0.94      0.79     52777\n",
      "weighted avg       0.98      0.98      0.98     52777\n",
      "\n"
     ]
    }
   ],
   "source": [
    "print(classification_report(y_test, y_preds))"
   ]
  },
  {
   "cell_type": "code",
   "execution_count": 36,
   "id": "stupid-storm",
   "metadata": {},
   "outputs": [
    {
     "data": {
      "text/plain": [
       "0.9780586240218276"
      ]
     },
     "execution_count": 36,
     "metadata": {},
     "output_type": "execute_result"
    }
   ],
   "source": [
    "accuracy_score(y_test, y_preds)"
   ]
  },
  {
   "cell_type": "code",
   "execution_count": 37,
   "id": "recovered-painting",
   "metadata": {},
   "outputs": [
    {
     "name": "stdout",
     "output_type": "stream",
     "text": [
      "[0.9969687  0.98752951 0.92907801 0.07317073 0.89047892]\n"
     ]
    }
   ],
   "source": [
    "print(precision_score(y_test, y_preds, average=None))\n"
   ]
  },
  {
   "cell_type": "code",
   "execution_count": 38,
   "id": "democratic-eclipse",
   "metadata": {},
   "outputs": [
    {
     "name": "stdout",
     "output_type": "stream",
     "text": [
      "[0.98387126 0.99162609 0.93349169 0.13483146 0.92024056]\n"
     ]
    }
   ],
   "source": [
    "print(f1_score(y_test, y_preds, average=None))\n"
   ]
  },
  {
   "cell_type": "code",
   "execution_count": null,
   "id": "unlimited-professional",
   "metadata": {},
   "outputs": [],
   "source": []
  }
 ],
 "metadata": {
  "kernelspec": {
   "display_name": "Python 3",
   "language": "python",
   "name": "python3"
  },
  "language_info": {
   "codemirror_mode": {
    "name": "ipython",
    "version": 3
   },
   "file_extension": ".py",
   "mimetype": "text/x-python",
   "name": "python",
   "nbconvert_exporter": "python",
   "pygments_lexer": "ipython3",
   "version": "3.8.5"
  }
 },
 "nbformat": 4,
 "nbformat_minor": 5
}
